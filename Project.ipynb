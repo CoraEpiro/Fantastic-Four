{
 "cells": [
  {
   "cell_type": "markdown",
   "metadata": {},
   "source": [
    "<h1>First of all let's start with analyzing dataset.</h1>"
   ]
  },
  {
   "cell_type": "code",
   "execution_count": null,
   "metadata": {},
   "outputs": [],
   "source": [
    "import pandas as pd\n",
    "import numpy as np\n",
    "import os\n",
    "from ydata_profiling import ProfileReport\n",
    "\n",
    "bus_stops_data = pd.read_excel('FLEXI_bus_stops.xls')\n",
    "trip_data = pd.read_excel('FLEXI_trip_data.xls')"
   ]
  },
  {
   "cell_type": "code",
   "execution_count": null,
   "metadata": {},
   "outputs": [],
   "source": [
    "report_file = 'bus_stops_data.html'\n",
    "\n",
    "if not os.path.exists(report_file):\n",
    "    profile = ProfileReport(bus_stops_data, title = 'FLEXI Bus Stops - Report')\n",
    "\n",
    "    profile.to_file('bus_stops_data_report_1.html')\n",
    "    profile.dump('bus_stops_data_report_1')\n",
    "\n",
    "profile = ProfileReport().load('bus_stops_data_report_1.pp')\n",
    "profile.to_notebook_iframe()"
   ]
  },
  {
   "cell_type": "code",
   "execution_count": null,
   "metadata": {},
   "outputs": [],
   "source": [
    "report_file = 'trip_data.html'\n",
    "\n",
    "if not os.path.exists(report_file):\n",
    "    profile = ProfileReport(trip_data, title = 'FLEXI Trips - Report')\n",
    "\n",
    "    profile.to_file('trip_data_report_1.html')\n",
    "    profile.dump('trip_data_report_1')\n",
    "\n",
    "profile = ProfileReport().load('trip_data_report_1.pp')\n",
    "profile.to_notebook_iframe()"
   ]
  },
  {
   "cell_type": "markdown",
   "metadata": {},
   "source": [
    "***As we can see here there are multiple types of objects so first of all we need to encode them to numerical values in order to work on them easily.***"
   ]
  },
  {
   "cell_type": "code",
   "execution_count": null,
   "metadata": {},
   "outputs": [],
   "source": [
    "bus_stops_data.info()\n",
    "\n",
    "bus_stops_data.head()"
   ]
  },
  {
   "cell_type": "markdown",
   "metadata": {},
   "source": [
    "***The reason to drop district is that information is given under the 'name' column.***"
   ]
  },
  {
   "cell_type": "code",
   "execution_count": null,
   "metadata": {},
   "outputs": [],
   "source": [
    "from sklearn.preprocessing import OneHotEncoder\n",
    "\n",
    "bus_stops_data_encoded = bus_stops_data.copy()\n",
    "\n",
    "bus_stops_data_encoded.drop(\"district\", inplace=True, axis=1)\n",
    "\n",
    "\n",
    "encoder = OneHotEncoder()\n",
    "\n",
    "encoded_name = encoder.fit_transform(bus_stops_data_encoded[['name']])\n",
    "\n",
    "encoded_name_df = pd.DataFrame(encoded_name.toarray(), columns=encoder.get_feature_names_out(['name']))\n",
    "\n",
    "bus_stops_data_encoded = pd.concat([bus_stops_data_encoded.drop('name', axis=1), encoded_name_df], axis=1)\n",
    "\n",
    "bus_stops_data_encoded.info()"
   ]
  },
  {
   "cell_type": "code",
   "execution_count": null,
   "metadata": {},
   "outputs": [
    {
     "name": "stdout",
     "output_type": "stream",
     "text": [
      "<class 'pandas.core.frame.DataFrame'>\n",
      "RangeIndex: 3838 entries, 0 to 3837\n",
      "Data columns (total 8 columns):\n",
      " #   Column               Non-Null Count  Dtype         \n",
      "---  ------               --------------  -----         \n",
      " 0   Booking ID           3838 non-null   int64         \n",
      " 1   Status               3838 non-null   object        \n",
      " 2   Passenger status     3838 non-null   object        \n",
      " 3   Passengers           3838 non-null   int64         \n",
      " 4   Pickup ID            3838 non-null   int64         \n",
      " 5   Dropoff ID           3838 non-null   int64         \n",
      " 6   Actual Pickup Time   3838 non-null   datetime64[ns]\n",
      " 7   Actual Dropoff Time  3838 non-null   datetime64[ns]\n",
      "dtypes: datetime64[ns](2), int64(4), object(2)\n",
      "memory usage: 240.0+ KB\n",
      "<class 'pandas.core.frame.DataFrame'>\n",
      "RangeIndex: 3838 entries, 0 to 3837\n",
      "Data columns (total 8 columns):\n",
      " #   Column               Non-Null Count  Dtype         \n",
      "---  ------               --------------  -----         \n",
      " 0   Booking ID           3838 non-null   int64         \n",
      " 1   Status               3838 non-null   object        \n",
      " 2   Passengers           3838 non-null   int64         \n",
      " 3   Pickup ID            3838 non-null   int64         \n",
      " 4   Dropoff ID           3838 non-null   int64         \n",
      " 5   Actual Pickup Time   3838 non-null   datetime64[ns]\n",
      " 6   Actual Dropoff Time  3838 non-null   datetime64[ns]\n",
      " 7   is_trip_completed    3838 non-null   int64         \n",
      "dtypes: datetime64[ns](2), int64(5), object(1)\n",
      "memory usage: 240.0+ KB\n"
     ]
    },
    {
     "data": {
      "text/html": [
       "<div>\n",
       "<style scoped>\n",
       "    .dataframe tbody tr th:only-of-type {\n",
       "        vertical-align: middle;\n",
       "    }\n",
       "\n",
       "    .dataframe tbody tr th {\n",
       "        vertical-align: top;\n",
       "    }\n",
       "\n",
       "    .dataframe thead th {\n",
       "        text-align: right;\n",
       "    }\n",
       "</style>\n",
       "<table border=\"1\" class=\"dataframe\">\n",
       "  <thead>\n",
       "    <tr style=\"text-align: right;\">\n",
       "      <th></th>\n",
       "      <th>Booking ID</th>\n",
       "      <th>Status</th>\n",
       "      <th>Passengers</th>\n",
       "      <th>Pickup ID</th>\n",
       "      <th>Dropoff ID</th>\n",
       "      <th>Actual Pickup Time</th>\n",
       "      <th>Actual Dropoff Time</th>\n",
       "      <th>is_trip_completed</th>\n",
       "    </tr>\n",
       "  </thead>\n",
       "  <tbody>\n",
       "    <tr>\n",
       "      <th>0</th>\n",
       "      <td>252392</td>\n",
       "      <td>Validated</td>\n",
       "      <td>2</td>\n",
       "      <td>55</td>\n",
       "      <td>70</td>\n",
       "      <td>2024-09-01 08:01:00</td>\n",
       "      <td>2024-09-01 08:17:00</td>\n",
       "      <td>1</td>\n",
       "    </tr>\n",
       "    <tr>\n",
       "      <th>1</th>\n",
       "      <td>253212</td>\n",
       "      <td>Cancelled by client</td>\n",
       "      <td>1</td>\n",
       "      <td>40</td>\n",
       "      <td>0</td>\n",
       "      <td>2024-09-01 08:18:00</td>\n",
       "      <td>2024-09-01 08:34:00</td>\n",
       "      <td>0</td>\n",
       "    </tr>\n",
       "    <tr>\n",
       "      <th>2</th>\n",
       "      <td>253369</td>\n",
       "      <td>Cancelled by client</td>\n",
       "      <td>3</td>\n",
       "      <td>66</td>\n",
       "      <td>0</td>\n",
       "      <td>2024-09-01 08:46:00</td>\n",
       "      <td>2024-09-01 09:09:00</td>\n",
       "      <td>0</td>\n",
       "    </tr>\n",
       "    <tr>\n",
       "      <th>3</th>\n",
       "      <td>253808</td>\n",
       "      <td>Cancelled by driver</td>\n",
       "      <td>2</td>\n",
       "      <td>30</td>\n",
       "      <td>0</td>\n",
       "      <td>2024-09-01 08:56:00</td>\n",
       "      <td>2024-09-01 09:09:00</td>\n",
       "      <td>0</td>\n",
       "    </tr>\n",
       "    <tr>\n",
       "      <th>4</th>\n",
       "      <td>253782</td>\n",
       "      <td>Validated</td>\n",
       "      <td>2</td>\n",
       "      <td>40</td>\n",
       "      <td>21</td>\n",
       "      <td>2024-09-01 09:14:00</td>\n",
       "      <td>2024-09-01 09:25:00</td>\n",
       "      <td>1</td>\n",
       "    </tr>\n",
       "  </tbody>\n",
       "</table>\n",
       "</div>"
      ],
      "text/plain": [
       "   Booking ID               Status  Passengers  Pickup ID  Dropoff ID  \\\n",
       "0      252392            Validated           2         55          70   \n",
       "1      253212  Cancelled by client           1         40           0   \n",
       "2      253369  Cancelled by client           3         66           0   \n",
       "3      253808  Cancelled by driver           2         30           0   \n",
       "4      253782            Validated           2         40          21   \n",
       "\n",
       "   Actual Pickup Time Actual Dropoff Time  is_trip_completed  \n",
       "0 2024-09-01 08:01:00 2024-09-01 08:17:00                  1  \n",
       "1 2024-09-01 08:18:00 2024-09-01 08:34:00                  0  \n",
       "2 2024-09-01 08:46:00 2024-09-01 09:09:00                  0  \n",
       "3 2024-09-01 08:56:00 2024-09-01 09:09:00                  0  \n",
       "4 2024-09-01 09:14:00 2024-09-01 09:25:00                  1  "
      ]
     },
     "execution_count": 56,
     "metadata": {},
     "output_type": "execute_result"
    }
   ],
   "source": [
    "trip_data_encoded = trip_data.copy()\n",
    "\n",
    "trip_data_encoded.info()\n",
    "\n",
    "trip_data_encoded['is_trip_completed'] = trip_data_encoded['Passenger status'].map({\"Trip completed\": 1, \"Cancelled\": 0})\n",
    "\n",
    "trip_data_encoded.drop('Passenger status', inplace=True, axis=1)\n",
    "\n",
    "trip_data_encoded.info()\n",
    "\n",
    "trip_data_encoded.head()"
   ]
  },
  {
   "cell_type": "code",
   "execution_count": null,
   "metadata": {},
   "outputs": [
    {
     "name": "stdout",
     "output_type": "stream",
     "text": [
      "<class 'pandas.core.frame.DataFrame'>\n",
      "RangeIndex: 3838 entries, 0 to 3837\n",
      "Data columns (total 13 columns):\n",
      " #   Column                           Non-Null Count  Dtype         \n",
      "---  ------                           --------------  -----         \n",
      " 0   Booking ID                       3838 non-null   int64         \n",
      " 1   Passengers                       3838 non-null   int64         \n",
      " 2   Pickup ID                        3838 non-null   int64         \n",
      " 3   Dropoff ID                       3838 non-null   int64         \n",
      " 4   Actual Pickup Time               3838 non-null   datetime64[ns]\n",
      " 5   Actual Dropoff Time              3838 non-null   datetime64[ns]\n",
      " 6   is_trip_completed                3838 non-null   int64         \n",
      " 7   Status_Cancelled by call center  3838 non-null   float64       \n",
      " 8   Status_Cancelled by client       3838 non-null   float64       \n",
      " 9   Status_Cancelled by driver       3838 non-null   float64       \n",
      " 10  Status_Changed by admin          3838 non-null   float64       \n",
      " 11  Status_Changed by client         3838 non-null   float64       \n",
      " 12  Status_Validated                 3838 non-null   float64       \n",
      "dtypes: datetime64[ns](2), float64(6), int64(5)\n",
      "memory usage: 389.9 KB\n"
     ]
    }
   ],
   "source": [
    "encoder = OneHotEncoder()\n",
    "\n",
    "encoded_status = encoder.fit_transform(trip_data_encoded[['Status']])\n",
    "\n",
    "encoded_name_df = pd.DataFrame(encoded_status.toarray(), columns=encoder.get_feature_names_out(['Status']))\n",
    "\n",
    "trip_data_encoded = pd.concat([trip_data_encoded.drop('Status', axis=1), encoded_name_df], axis=1)\n",
    "\n",
    "trip_data_encoded.info()"
   ]
  }
 ],
 "metadata": {
  "kernelspec": {
   "display_name": "base",
   "language": "python",
   "name": "python3"
  },
  "language_info": {
   "codemirror_mode": {
    "name": "ipython",
    "version": 3
   },
   "file_extension": ".py",
   "mimetype": "text/x-python",
   "name": "python",
   "nbconvert_exporter": "python",
   "pygments_lexer": "ipython3",
   "version": "3.11.5"
  }
 },
 "nbformat": 4,
 "nbformat_minor": 2
}
